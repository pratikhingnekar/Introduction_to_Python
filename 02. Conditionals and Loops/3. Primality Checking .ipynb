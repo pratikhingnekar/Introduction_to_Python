{
 "cells": [
  {
   "cell_type": "code",
   "execution_count": 3,
   "metadata": {},
   "outputs": [
    {
     "name": "stdout",
     "output_type": "stream",
     "text": [
      "99\n",
      "2450\n"
     ]
    }
   ],
   "source": [
    "#SUM OF EVEN NUMBERS\n",
    "N = int(input())\n",
    "sum = 0\n",
    "i = 0\n",
    "\n",
    "while i <= N:\n",
    "    sum = sum + i\n",
    "    i = i+2\n",
    "\n",
    "print(sum)"
   ]
  },
  {
   "cell_type": "code",
   "execution_count": null,
   "metadata": {},
   "outputs": [],
   "source": [
    "#SUM OF N NUMBERS\n",
    "n = int(input())\n",
    "sum = 0\n",
    "i = 0\n",
    "\n",
    "while i <= n:\n",
    "    sum = sum + i\n",
    "    i = i+1\n",
    "\n",
    "print(sum)"
   ]
  },
  {
   "cell_type": "code",
   "execution_count": 8,
   "metadata": {},
   "outputs": [
    {
     "name": "stdout",
     "output_type": "stream",
     "text": [
      "11\n",
      "prime\n"
     ]
    }
   ],
   "source": [
    "n = int(input())\n",
    "d = 2\n",
    "flag = False\n",
    "while n >d:\n",
    "    if n%d ==0:\n",
    "        flag = True\n",
    "    d = d+1\n",
    "if flag:\n",
    "    print(\"not prime\")\n",
    "else:\n",
    "    print('prime')"
   ]
  },
  {
   "cell_type": "code",
   "execution_count": 6,
   "metadata": {
    "scrolled": false
   },
   "outputs": [
    {
     "name": "stdout",
     "output_type": "stream",
     "text": [
      "29\n",
      "prime\n"
     ]
    }
   ],
   "source": [
    "#finding n is prime or not\n",
    "n = int(input())\n",
    "d = 2\n",
    "flag= False\n",
    "while d<n:\n",
    "    if (n % d == 0):\n",
    "        flag = True\n",
    "    d = d + 1\n",
    "    \n",
    "if flag:\n",
    "    print('not prime')\n",
    "else:\n",
    "    print('prime')"
   ]
  },
  {
   "cell_type": "code",
   "execution_count": 1,
   "metadata": {
    "scrolled": false
   },
   "outputs": [
    {
     "name": "stdout",
     "output_type": "stream",
     "text": [
      "10\n",
      "2\n",
      "3\n",
      "5\n",
      "7\n"
     ]
    }
   ],
   "source": [
    " #all prime\n",
    "n = int(input())\n",
    "k =2\n",
    "while k <= n:\n",
    "    d = 2\n",
    "    flag= False\n",
    "    while d<k:\n",
    "        if (k % d == 0):\n",
    "            flag = True\n",
    "        d = d + 1\n",
    "    if not flag:\n",
    "        print(k)\n",
    "    k =k+1      "
   ]
  },
  {
   "cell_type": "code",
   "execution_count": null,
   "metadata": {},
   "outputs": [],
   "source": [
    "start = int(input())\n",
    "end = int(input())\n",
    "step = int(input())\n",
    "\n",
    "curr_temp = start\n",
    "\n",
    "while curr_temp <= end:\n",
    "    c = 5/9 * (curr_temp-32)\n",
    "    print(curr_temp, \" \", int(c))\n",
    "    curr_temp = curr_temp+step"
   ]
  },
  {
   "cell_type": "code",
   "execution_count": 9,
   "metadata": {
    "scrolled": true
   },
   "outputs": [
    {
     "name": "stdout",
     "output_type": "stream",
     "text": [
      "0\n",
      "100\n",
      "20\n",
      "0\t-17\n",
      "20\t-6\n",
      "40\t4\n",
      "60\t15\n",
      "80\t26\n",
      "100\t37\n"
     ]
    }
   ],
   "source": [
    "S=int(input())\n",
    "E=int(input())\n",
    "W=int(input())\n",
    "i = S\n",
    "while i<=E:\n",
    "    cel=(5/9)*(i-32)\n",
    "    \n",
    "    print(str(i) + \"\\t\" + str(int(cel)))\n",
    "    i=i+W"
   ]
  },
  {
   "cell_type": "code",
   "execution_count": 1,
   "metadata": {
    "scrolled": true
   },
   "outputs": [
    {
     "name": "stdout",
     "output_type": "stream",
     "text": [
      "123\n",
      "321\n"
     ]
    }
   ],
   "source": [
    "#finding reverse of N\n",
    "N = int(input())\n",
    "R = 0\n",
    "while N>0:\n",
    "    R =R*10+ N%10\n",
    "    N =N//10\n",
    "print(R)    "
   ]
  },
  {
   "cell_type": "code",
   "execution_count": null,
   "metadata": {
    "scrolled": true
   },
   "outputs": [],
   "source": [
    "n = int(input())\n",
    "if n >=7:    \n",
    "    print(\"Invalid Operation\")\n",
    "elif n<6:\n",
    "    a = int(input())\n",
    "    b = int(input())\n",
    "    sum=a+b\n",
    "    print(sum)\n",
    "\n",
    "    difference = a-b\n",
    "    print(difference)\n",
    "\n",
    "    product = a*b\n",
    "    print(product)\n",
    "\n",
    "    quotient= a/b\n",
    "    print(quotient)\n",
    "\n",
    "    remainder= a%b\n",
    "    print(remainder)\n",
    "\n",
    "elif n == 6:\n",
    "    print(exit)"
   ]
  },
  {
   "cell_type": "code",
   "execution_count": 11,
   "metadata": {
    "scrolled": false
   },
   "outputs": [
    {
     "name": "stdout",
     "output_type": "stream",
     "text": [
      "121\n",
      "True\n"
     ]
    }
   ],
   "source": [
    "# palindrome\n",
    "N = int(input())\n",
    "i = N\n",
    "R = 0\n",
    "while N>0:\n",
    "    R =R*10+ N%10\n",
    "    N =N//10\n",
    "if R ==i:\n",
    "    print(\"True\")\n",
    "else:\n",
    "    print(\"False\")"
   ]
  },
  {
   "cell_type": "code",
   "execution_count": 8,
   "metadata": {
    "scrolled": false
   },
   "outputs": [
    {
     "name": "stdout",
     "output_type": "stream",
     "text": [
      "Enter the terms6\n",
      "1 1 2 3 5 8 "
     ]
    }
   ],
   "source": [
    "# Enter number of terms needed                   #0,1,1,2,3,5....\n",
    "a=int(input(\"Enter the terms\"))\n",
    "f=1                                         #first element of series\n",
    "s=1                                         #second element of series\n",
    "if a<=0:\n",
    "    print(\"The requested series is\",f)\n",
    "else:\n",
    "    print(f,s,end=\" \")\n",
    "    for x in range(2,a):\n",
    "        next=f+s                           \n",
    "        print(next,end=\" \")\n",
    "        f=s\n",
    "        s=next"
   ]
  },
  {
   "cell_type": "code",
   "execution_count": null,
   "metadata": {
    "scrolled": false
   },
   "outputs": [
    {
     "name": "stdout",
     "output_type": "stream",
     "text": [
      "7\n",
      "Invalid Operation\n",
      "7\n",
      "Invalid Operation\n"
     ]
    }
   ],
   "source": [
    "n= int(input())\n",
    "while n != 6:\n",
    "    if n <= 5 and n >= 1:\n",
    "        a = int(input())\n",
    "        b = int(input())\n",
    "    if n==1:\n",
    "        print(a + b)\n",
    "    if n==2:\n",
    "        print(a - b)\n",
    "    if n==3:\n",
    "        print(a * b)\n",
    "    if n==4:\n",
    "        print(a // b)\n",
    "    if n==5:\n",
    "        print(a % b)\n",
    "    elif n < 1 or n > 6:\n",
    "        print(\"Invalid Operation\")\n",
    "    n=int(input())"
   ]
  },
  {
   "cell_type": "code",
   "execution_count": 5,
   "metadata": {
    "scrolled": true
   },
   "outputs": [
    {
     "name": "stdout",
     "output_type": "stream",
     "text": [
      "1234\n",
      "4 0\n"
     ]
    }
   ],
   "source": [
    "N = int(input())\n",
    "# R = 0\n",
    "evenSum = 0\n",
    "oddSum = 0\n",
    "\n",
    "while N>0:\n",
    "    R =R%10\n",
    "    N =N//10\n",
    "    if R%2==0:\n",
    "        evenSum = evenSum + R\n",
    "        # print(evenSum)\n",
    "    else:\n",
    "        oddSum = oddSum +R\n",
    "print(oddSum,evenSum)"
   ]
  },
  {
   "cell_type": "code",
   "execution_count": 6,
   "metadata": {
    "scrolled": true
   },
   "outputs": [
    {
     "name": "stdout",
     "output_type": "stream",
     "text": [
      "1234\n",
      "6 4\n"
     ]
    }
   ],
   "source": [
    "N = int(input())\n",
    "R = 0\n",
    "evenSum = 0\n",
    "oddSum = 0\n",
    "\n",
    "while N>0:\n",
    "    R =N%10\n",
    "    N =N//10\n",
    "    if R%2==0:\n",
    "        evenSum = evenSum + R\n",
    "        # print(evenSum)\n",
    "    else:\n",
    "        oddSum = oddSum +R\n",
    "print(evenSum,oddSum)"
   ]
  },
  {
   "cell_type": "code",
   "execution_count": 2,
   "metadata": {
    "scrolled": false
   },
   "outputs": [
    {
     "name": "stdout",
     "output_type": "stream",
     "text": [
      "6\n",
      "8\n"
     ]
    }
   ],
   "source": [
    "a=int(input())\n",
    "f=1                                         #first element of series\n",
    "s=1                                         #second element of series\n",
    "if a<=0:\n",
    "    print(f)\n",
    "else:\n",
    "    # print(f,s,end=\" \")\n",
    "    for x in range(2,a):\n",
    "        next=f+s                           \n",
    "        # print(next,end=\" \")\n",
    "        f=s\n",
    "        s=next\n",
    "    print(next)"
   ]
  },
  {
   "cell_type": "code",
   "execution_count": null,
   "metadata": {},
   "outputs": [
    {
     "name": "stdout",
     "output_type": "stream",
     "text": [
      "1\n",
      "2\n",
      "5\n",
      "7\n"
     ]
    }
   ],
   "source": [
    "n= int(input())\n",
    "while n != 6:\n",
    "    if n <= 5 and n >= 1:\n",
    "        a = int(input())\n",
    "        b = int(input())\n",
    "    if n==1:\n",
    "        print(a + b)\n",
    "    if n==2:\n",
    "        print(a - b)\n",
    "    if n==3:\n",
    "        print(a * b)\n",
    "    if n==4:\n",
    "        print(a // b)\n",
    "    if n==5:\n",
    "        print(a % b)\n",
    "    elif n < 1 or n > 6:\n",
    "        print(\"Invalid Operation\")\n",
    "    n=int(input())"
   ]
  }
 ],
 "metadata": {
  "kernelspec": {
   "display_name": "Python 3",
   "language": "python",
   "name": "python3"
  },
  "language_info": {
   "codemirror_mode": {
    "name": "ipython",
    "version": 3
   },
   "file_extension": ".py",
   "mimetype": "text/x-python",
   "name": "python",
   "nbconvert_exporter": "python",
   "pygments_lexer": "ipython3",
   "version": "3.8.5"
  }
 },
 "nbformat": 4,
 "nbformat_minor": 4
}
