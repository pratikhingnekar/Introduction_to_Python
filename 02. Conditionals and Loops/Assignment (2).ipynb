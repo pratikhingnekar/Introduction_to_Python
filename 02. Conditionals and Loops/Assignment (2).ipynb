{
 "cells": [
  {
   "cell_type": "markdown",
   "metadata": {},
   "source": [
    "# Check number\n"
   ]
  },
  {
   "cell_type": "code",
   "execution_count": 1,
   "metadata": {
    "scrolled": true
   },
   "outputs": [
    {
     "name": "stdout",
     "output_type": "stream",
     "text": [
      "10\n",
      "Positive\n"
     ]
    }
   ],
   "source": [
    "n=int(input())\n",
    "if n>0:\n",
    "    print('Positive')\n",
    "elif n<0:\n",
    "    print('Negative')\n",
    "else:\n",
    "    print('Zero')"
   ]
  },
  {
   "cell_type": "markdown",
   "metadata": {},
   "source": [
    "# Sum of n numbers\n"
   ]
  },
  {
   "cell_type": "code",
   "execution_count": 2,
   "metadata": {
    "scrolled": true
   },
   "outputs": [
    {
     "name": "stdout",
     "output_type": "stream",
     "text": [
      "10\n",
      "55\n"
     ]
    }
   ],
   "source": [
    "n = int(input())\n",
    "sum = 0\n",
    "i = 0\n",
    "\n",
    "while i <= n:\n",
    "    sum = sum + i\n",
    "    i = i+1\n",
    "\n",
    "print(sum)"
   ]
  },
  {
   "cell_type": "markdown",
   "metadata": {},
   "source": [
    "# Sum of Even Numbers"
   ]
  },
  {
   "cell_type": "code",
   "execution_count": 3,
   "metadata": {
    "scrolled": true
   },
   "outputs": [
    {
     "name": "stdout",
     "output_type": "stream",
     "text": [
      "6\n",
      "12\n"
     ]
    }
   ],
   "source": [
    "N = int(input())\n",
    "sum = 0\n",
    "i = 0\n",
    "\n",
    "while i <= N:\n",
    "    sum = sum + i\n",
    "    i = i+2\n",
    "\n",
    "print(sum)"
   ]
  },
  {
   "cell_type": "markdown",
   "metadata": {},
   "source": [
    "# Fahrenheit to Celsius"
   ]
  },
  {
   "cell_type": "code",
   "execution_count": 4,
   "metadata": {
    "scrolled": true
   },
   "outputs": [
    {
     "name": "stdout",
     "output_type": "stream",
     "text": [
      "0 \n",
      "100\n",
      "20\n",
      "0\t-17\n",
      "20\t-6\n",
      "40\t4\n",
      "60\t15\n",
      "80\t26\n",
      "100\t37\n"
     ]
    }
   ],
   "source": [
    "S=int(input())\n",
    "E=int(input())\n",
    "W=int(input())\n",
    "i = S\n",
    "while i<=E:\n",
    "    cel=(5/9)*(i-32)\n",
    "    \n",
    "    print(str(i) + \"\\t\" + str(int(cel)))\n",
    "    i=i+W"
   ]
  },
  {
   "cell_type": "markdown",
   "metadata": {},
   "source": [
    "# Calculator"
   ]
  },
  {
   "cell_type": "code",
   "execution_count": 6,
   "metadata": {
    "scrolled": true
   },
   "outputs": [
    {
     "name": "stdout",
     "output_type": "stream",
     "text": [
      "3\n",
      "1\n",
      "2\n",
      "2\n",
      "4\n",
      "2\n",
      "1\n",
      "2\n",
      "3\n",
      "2\n",
      "7\n",
      "14\n",
      "6\n"
     ]
    }
   ],
   "source": [
    "n= int(input())\n",
    "while n != 6:\n",
    "    if n <= 5 and n >= 1:\n",
    "        a = int(input())\n",
    "        b = int(input())\n",
    "    if n==1:\n",
    "        print(a + b)\n",
    "    if n==2:\n",
    "        print(a - b)\n",
    "    if n==3:\n",
    "        print(a * b)\n",
    "    if n==4:\n",
    "        print(a // b)\n",
    "    if n==5:\n",
    "        print(a % b)\n",
    "    elif n < 1 or n > 6:\n",
    "        print(\"Invalid Operation\")\n",
    "    n=int(input())"
   ]
  },
  {
   "cell_type": "markdown",
   "metadata": {},
   "source": [
    "# Reverse of a number\n"
   ]
  },
  {
   "cell_type": "code",
   "execution_count": 9,
   "metadata": {
    "scrolled": true
   },
   "outputs": [
    {
     "name": "stdout",
     "output_type": "stream",
     "text": [
      "10400\n",
      "Invalid Operation\n"
     ]
    }
   ],
   "source": [
    "n = int(input())\n",
    "if n >=7:    \n",
    "    print(\"Invalid Operation\")\n",
    "elif n<6:\n",
    "    a = int(input())\n",
    "    b = int(input())\n",
    "    sum=a+b\n",
    "    print(sum)\n",
    "\n",
    "    difference = a-b\n",
    "    print(difference)\n",
    "\n",
    "    product = a*b\n",
    "    print(product)\n",
    "\n",
    "    quotient= a/b\n",
    "    print(quotient)\n",
    "\n",
    "    remainder= a%b\n",
    "    print(remainder)\n",
    "\n",
    "elif n == 6:\n",
    "    print(exit)"
   ]
  },
  {
   "cell_type": "markdown",
   "metadata": {},
   "source": [
    "# Palindrome number"
   ]
  },
  {
   "cell_type": "code",
   "execution_count": 10,
   "metadata": {
    "scrolled": true
   },
   "outputs": [
    {
     "name": "stdout",
     "output_type": "stream",
     "text": [
      "121\n",
      "true\n"
     ]
    }
   ],
   "source": [
    "N = int(input())\n",
    "i = N\n",
    "R = 0\n",
    "while N>0:\n",
    "    R =R*10+ N%10\n",
    "    N =N//10\n",
    "if R ==i:\n",
    "    print(\"true\")\n",
    "else:\n",
    "    print(\"false\")"
   ]
  },
  {
   "cell_type": "markdown",
   "metadata": {},
   "source": [
    "# Sum of even & odd"
   ]
  },
  {
   "cell_type": "code",
   "execution_count": 11,
   "metadata": {
    "scrolled": true
   },
   "outputs": [
    {
     "name": "stdout",
     "output_type": "stream",
     "text": [
      "1234\n",
      "6 4\n"
     ]
    }
   ],
   "source": [
    "N = int(input())\n",
    "R = 0\n",
    "evenSum = 0\n",
    "oddSum = 0\n",
    "\n",
    "while N>0:\n",
    "    R =N%10\n",
    "    N =N//10\n",
    "    if R%2==0:\n",
    "        evenSum = evenSum + R\n",
    "        # print(evenSum)\n",
    "    else:\n",
    "        oddSum = oddSum +R\n",
    "print(evenSum,oddSum)"
   ]
  },
  {
   "cell_type": "markdown",
   "metadata": {},
   "source": [
    "# Nth Fibonacci Number"
   ]
  },
  {
   "cell_type": "code",
   "execution_count": 12,
   "metadata": {},
   "outputs": [
    {
     "name": "stdout",
     "output_type": "stream",
     "text": [
      "6\n",
      "8\n"
     ]
    }
   ],
   "source": [
    "a=int(input())\n",
    "f=1                                         #first element of series\n",
    "s=1                                         #second element of series\n",
    "if a<=0:\n",
    "    print(f)\n",
    "else:\n",
    "    # print(f,s,end=\" \")\n",
    "    for x in range(2,a):\n",
    "        next=f+s                           \n",
    "        # print(next,end=\" \")\n",
    "        f=s\n",
    "        s=next\n",
    "    print(next)"
   ]
  }
 ],
 "metadata": {
  "kernelspec": {
   "display_name": "Python 3",
   "language": "python",
   "name": "python3"
  },
  "language_info": {
   "codemirror_mode": {
    "name": "ipython",
    "version": 3
   },
   "file_extension": ".py",
   "mimetype": "text/x-python",
   "name": "python",
   "nbconvert_exporter": "python",
   "pygments_lexer": "ipython3",
   "version": "3.8.5"
  }
 },
 "nbformat": 4,
 "nbformat_minor": 4
}
