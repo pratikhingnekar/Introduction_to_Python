{
 "cells": [
  {
   "cell_type": "raw",
   "metadata": {},
   "source": [
    "    *\n",
    "   **\n",
    "  ***\n",
    " **** "
   ]
  },
  {
   "cell_type": "code",
   "execution_count": 1,
   "metadata": {
    "scrolled": true
   },
   "outputs": [
    {
     "name": "stdout",
     "output_type": "stream",
     "text": [
      "4\n",
      "   *\n",
      "  **\n",
      " ***\n",
      "****\n"
     ]
    }
   ],
   "source": [
    "n = int(input())\n",
    "i = 1\n",
    "while i<=n:\n",
    "    spaces = 1\n",
    "    while spaces<=n-i:\n",
    "        print(' ',end='')\n",
    "        spaces = spaces + 1\n",
    "    star = 1\n",
    "    while star <=i:\n",
    "        print('*',end='')\n",
    "        star = star +1\n",
    "    print()\n",
    "    i +=1    "
   ]
  },
  {
   "cell_type": "raw",
   "metadata": {},
   "source": [
    "   1\n",
    "  12\n",
    " 123\n",
    "1234 "
   ]
  },
  {
   "cell_type": "code",
   "execution_count": 46,
   "metadata": {
    "scrolled": true
   },
   "outputs": [
    {
     "name": "stdout",
     "output_type": "stream",
     "text": [
      "4\n",
      "   1\n",
      "  12\n",
      " 123\n",
      "1234\n"
     ]
    }
   ],
   "source": [
    "n = int(input())\n",
    "i = 1\n",
    "while i<=n:\n",
    "    spaces = 1\n",
    "    while spaces<=n-i:\n",
    "        print(' ',end='')\n",
    "        spaces = spaces + 1\n",
    "    star = 1\n",
    "    while star <=i:\n",
    "        print(star,end='')\n",
    "        star = star +1\n",
    "    print()\n",
    "    i +=1    "
   ]
  },
  {
   "cell_type": "markdown",
   "metadata": {},
   "source": [
    "# iso"
   ]
  },
  {
   "cell_type": "code",
   "execution_count": 13,
   "metadata": {},
   "outputs": [
    {
     "name": "stdout",
     "output_type": "stream",
     "text": [
      "4\n",
      "   1\n",
      "  121\n",
      " 12321\n",
      "1234321\n"
     ]
    }
   ],
   "source": [
    "n = int(input())\n",
    "i = 1\n",
    "while i<=n:\n",
    "    spaces =1\n",
    "    while spaces<=n-i:\n",
    "        print(' ',end='')\n",
    "        spaces = spaces + 1\n",
    "    p = 1\n",
    "    j = 1\n",
    "    while j<=i:\n",
    "        print(p,end='')\n",
    "        p= p + 1\n",
    "        j =j + 1\n",
    "    p = i-1\n",
    "    while p>=1:\n",
    "        print(p,end='')\n",
    "        p = p-1\n",
    "    print()\n",
    "    i= i+1"
   ]
  },
  {
   "cell_type": "code",
   "execution_count": 14,
   "metadata": {
    "scrolled": false
   },
   "outputs": [
    {
     "name": "stdout",
     "output_type": "stream",
     "text": [
      "4\n",
      "   *\n",
      "  ***\n",
      " *****\n",
      "*******\n"
     ]
    }
   ],
   "source": [
    "n = int(input())\n",
    "i = 1\n",
    "while i<=n:\n",
    "    spaces =1\n",
    "    while spaces<=n-i:\n",
    "        print(' ',end='')\n",
    "        spaces = spaces + 1\n",
    "    digit = 1\n",
    "    while digit<=i:\n",
    "        print('*',end='')\n",
    "        digit= digit+ 1\n",
    "    digit = i-1\n",
    "    while digit>=1:\n",
    "        print('*',end='')\n",
    "        digit = digit - 1\n",
    "    print()\n",
    "    i= i+1"
   ]
  },
  {
   "cell_type": "markdown",
   "metadata": {},
   "source": [
    "# dsfsdfdsdf"
   ]
  },
  {
   "cell_type": "code",
   "execution_count": 32,
   "metadata": {
    "scrolled": false
   },
   "outputs": [
    {
     "name": "stdout",
     "output_type": "stream",
     "text": [
      "4\n",
      "1      1\n",
      "12    12\n",
      "123  123\n",
      "12341234\n"
     ]
    }
   ],
   "source": [
    "n = int(input())\n",
    "i = 1\n",
    "while i<=n:\n",
    "    j=1\n",
    "    while j<=i:\n",
    "        print(j,end='')\n",
    "        j = j+1\n",
    "    spaces =1\n",
    "    while spaces<=2*n-2*i:\n",
    "        print(' ',end='')\n",
    "        spaces = spaces + 1\n",
    "    p = 1\n",
    "    while p<=i:\n",
    "        print(p,end='')\n",
    "        p = p + 1\n",
    "    print()\n",
    "    i = i+1"
   ]
  },
  {
   "cell_type": "code",
   "execution_count": 33,
   "metadata": {},
   "outputs": [
    {
     "name": "stdout",
     "output_type": "stream",
     "text": [
      "4\n",
      "1      1\n",
      "12    21\n",
      "123  321\n",
      "12344321\n"
     ]
    }
   ],
   "source": [
    "n=int(input())\n",
    "i=1\n",
    "while i<=n:\n",
    "    j=1\n",
    "    while j<=2*n:\n",
    "        if j<=i:\n",
    "            print(j,end=\"\")\n",
    "        elif j>i and j<=2*n-i:\n",
    "            print(\" \",end=\"\");\n",
    "        elif j>2*n-i:\n",
    "            print(2*n-j+1,end=\"\")\n",
    "        \n",
    "        j=j+1\n",
    "    print()\n",
    "    i=i+1"
   ]
  },
  {
   "cell_type": "raw",
   "metadata": {},
   "source": [
    "Assignment"
   ]
  },
  {
   "cell_type": "code",
   "execution_count": 2,
   "metadata": {
    "scrolled": true
   },
   "outputs": [
    {
     "name": "stdout",
     "output_type": "stream",
     "text": [
      "4\n",
      "   1\n",
      "  232\n",
      " 34543\n",
      "4567654\n"
     ]
    }
   ],
   "source": [
    "n=int(input())\n",
    "i=1\n",
    "while(i<=n):\n",
    "    j=1\n",
    "    while(j<=n-i):  \n",
    "        print(' ',end=\"\") \n",
    "        j=j+1\n",
    "    a=1\n",
    "    p=i\n",
    "    while(a<=i):\n",
    "        print(p,end=\"\")\n",
    "        a=a+1\n",
    "        p=p+1\n",
    "    #print()\n",
    "    b=1\n",
    "    p=2*i-2\n",
    "    while(b<=i-1):\n",
    "        print(p,end=\"\")\n",
    "        p-=1\n",
    "        b+=1\n",
    "    print()\n",
    "    i=i+1          "
   ]
  },
  {
   "cell_type": "code",
   "execution_count": null,
   "metadata": {},
   "outputs": [],
   "source": [
    "dsdsd\n",
    "b"
   ]
  },
  {
   "cell_type": "code",
   "execution_count": 35,
   "metadata": {
    "scrolled": true
   },
   "outputs": [
    {
     "name": "stdout",
     "output_type": "stream",
     "text": [
      "4\n",
      "0*000\n",
      "00*000\n",
      "000*000\n",
      "0000*000\n"
     ]
    }
   ],
   "source": [
    "n = int(input())\n",
    "i = 1\n",
    "while i<=n:\n",
    "    j =1\n",
    "    while j<=i:\n",
    "        print('0',end='')\n",
    "        j = j+1\n",
    "    k =1\n",
    "    while k<=n-3:\n",
    "        print('*',end='')\n",
    "        k =k+1\n",
    "    p = 1\n",
    "    while p <=n-1:\n",
    "        print('0',end='')\n",
    "        p = p+1\n",
    "    print()\n",
    "    i = i+1"
   ]
  }
 ],
 "metadata": {
  "kernelspec": {
   "display_name": "Python 3",
   "language": "python",
   "name": "python3"
  },
  "language_info": {
   "codemirror_mode": {
    "name": "ipython",
    "version": 3
   },
   "file_extension": ".py",
   "mimetype": "text/x-python",
   "name": "python",
   "nbconvert_exporter": "python",
   "pygments_lexer": "ipython3",
   "version": "3.8.5"
  }
 },
 "nbformat": 4,
 "nbformat_minor": 4
}
