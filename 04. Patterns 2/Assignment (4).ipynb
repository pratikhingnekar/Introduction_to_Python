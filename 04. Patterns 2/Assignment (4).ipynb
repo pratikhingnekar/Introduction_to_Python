{
 "cells": [
  {
   "cell_type": "markdown",
   "metadata": {},
   "source": [
    "# Code : Inverted Number Pattern"
   ]
  },
  {
   "cell_type": "code",
   "execution_count": 1,
   "metadata": {
    "scrolled": true
   },
   "outputs": [
    {
     "name": "stdout",
     "output_type": "stream",
     "text": [
      "4\n",
      "4444\n",
      "333\n",
      "22\n",
      "1\n"
     ]
    }
   ],
   "source": [
    "n = int(input())\n",
    "i = 1\n",
    "while i <= n:\n",
    "    j =1\n",
    "    while j<= n-i+1:\n",
    "        print(n-i+1,end='')\n",
    "        j = j+1\n",
    "    print()\n",
    "    i = i + 1"
   ]
  },
  {
   "cell_type": "markdown",
   "metadata": {},
   "source": [
    "# Code : Mirror Number Pattern"
   ]
  },
  {
   "cell_type": "code",
   "execution_count": 2,
   "metadata": {},
   "outputs": [
    {
     "name": "stdout",
     "output_type": "stream",
     "text": [
      "4\n",
      "   1\n",
      "  12\n",
      " 123\n",
      "1234\n"
     ]
    }
   ],
   "source": [
    "n = int(input())\n",
    "i = 1\n",
    "while i<=n:\n",
    "    spaces =1\n",
    "    while spaces<=n-i:\n",
    "        print(' ',end='')\n",
    "        spaces = spaces + 1\n",
    "    digit = 1\n",
    "    while digit<=i:\n",
    "        print(digit,end='')\n",
    "        digit= digit+ 1\n",
    "    print()\n",
    "    i= i+1"
   ]
  },
  {
   "cell_type": "markdown",
   "metadata": {},
   "source": [
    "# Code : Star Pattern"
   ]
  },
  {
   "cell_type": "code",
   "execution_count": 3,
   "metadata": {},
   "outputs": [
    {
     "name": "stdout",
     "output_type": "stream",
     "text": [
      "4\n",
      "   *\n",
      "  ***\n",
      " *****\n",
      "*******\n"
     ]
    }
   ],
   "source": [
    "n = int(input())\n",
    "i = 1\n",
    "while i<=n:\n",
    "    spaces =1\n",
    "    while spaces<=n-i:\n",
    "        print(' ',end='')\n",
    "        spaces = spaces + 1\n",
    "    digit = 1\n",
    "    while digit<=i:\n",
    "        print('*',end='')\n",
    "        digit= digit+ 1\n",
    "    digit = i-1\n",
    "    while digit>=1:\n",
    "        print('*',end='')\n",
    "        digit = digit - 1\n",
    "    print()\n",
    "    i= i+1"
   ]
  },
  {
   "cell_type": "markdown",
   "metadata": {},
   "source": [
    "# Code : Triangle of Numbers"
   ]
  },
  {
   "cell_type": "code",
   "execution_count": 4,
   "metadata": {},
   "outputs": [
    {
     "name": "stdout",
     "output_type": "stream",
     "text": [
      "4\n",
      "   1\n",
      "  232\n",
      " 34543\n",
      "4567654\n"
     ]
    }
   ],
   "source": [
    "n=int(input())\n",
    "i=1\n",
    "while(i<=n):\n",
    "    j=1\n",
    "    while(j<=n-i):  \n",
    "        print(' ',end=\"\") \n",
    "        j=j+1\n",
    "    a=1\n",
    "    p=i\n",
    "    while(a<=i):\n",
    "        print(p,end=\"\")\n",
    "        a=a+1\n",
    "        p=p+1\n",
    "    #print()\n",
    "    b=1\n",
    "    p=2*i-2\n",
    "    while(b<=i-1):\n",
    "        print(p,end=\"\")\n",
    "        p-=1\n",
    "        b+=1\n",
    "    print()\n",
    "    i=i+1  "
   ]
  },
  {
   "cell_type": "markdown",
   "metadata": {},
   "source": [
    "# Code : Diamond of stars"
   ]
  },
  {
   "cell_type": "code",
   "execution_count": 5,
   "metadata": {},
   "outputs": [
    {
     "name": "stdout",
     "output_type": "stream",
     "text": [
      "5\n",
      "  *\n",
      " ***\n",
      "*****\n",
      " ***\n",
      "  *\n"
     ]
    }
   ],
   "source": [
    "n=int(input())\n",
    "n1=(n+1)//2\n",
    "n2=n1-1\n",
    "i=1\n",
    "while(i<=n1):\n",
    "    a=1\n",
    "    while(a<=n1-i):\n",
    "        print(\" \",end=\"\")\n",
    "        a=a+1\n",
    "    b=1\n",
    "    while(b<=2*i-1):\n",
    "        print('*',end=\"\")\n",
    "        b=b+1\n",
    "    print()\n",
    "    i=i+1\n",
    "i=n2\n",
    "while(i>=1):\n",
    "    a=1\n",
    "    while(a<=n2 - i +1):\n",
    "        print(\" \",end='')\n",
    "        a = a+1\n",
    "    j=1\n",
    "    while(j<=2*i-1):\n",
    "        print('*',end=\"\")\n",
    "        j=j+1\n",
    "    print()\n",
    "    i = i-1"
   ]
  },
  {
   "cell_type": "markdown",
   "metadata": {},
   "source": [
    "# Number Pattern"
   ]
  },
  {
   "cell_type": "code",
   "execution_count": 6,
   "metadata": {},
   "outputs": [
    {
     "name": "stdout",
     "output_type": "stream",
     "text": [
      "5\n",
      "1        1\n",
      "12      21\n",
      "123    321\n",
      "1234  4321\n",
      "1234554321\n"
     ]
    }
   ],
   "source": [
    "n=int(input())\n",
    "i=1\n",
    "while i<=n:\n",
    "    j=1\n",
    "    while j<=2*n:\n",
    "        if j<=i:\n",
    "            print(j,end=\"\")\n",
    "        elif j>i and j<=2*n-i:\n",
    "            print(\" \",end=\"\");\n",
    "        elif j>2*n-i:\n",
    "            print(2*n-j+1,end=\"\")\n",
    "        \n",
    "        j=j+1\n",
    "    print()\n",
    "    i=i+1"
   ]
  },
  {
   "cell_type": "markdown",
   "metadata": {},
   "source": [
    "# Zeros and Stars Pattern"
   ]
  },
  {
   "cell_type": "code",
   "execution_count": 8,
   "metadata": {},
   "outputs": [
    {
     "name": "stdout",
     "output_type": "stream",
     "text": [
      "4\n",
      "*000*000*\n",
      "0*00*00*0\n",
      "00*0*0*00\n",
      "000***000\n"
     ]
    }
   ],
   "source": [
    "n=int(input())\n",
    "start=1\n",
    "end=2*n+1\n",
    "mid=n+1\n",
    "row=1\n",
    "while row<=n:\n",
    "    column=1\n",
    "    while column<=2*n+1:\n",
    "        if (row==column or column==end or column==mid):\n",
    "            print(\"*\",end=\"\")\n",
    "        else:\n",
    "            print(0,end=\"\")\n",
    "        column=column+1\n",
    "    start=start+1\n",
    "    end=end-1\n",
    "    row=row+1\n",
    "    print()"
   ]
  },
  {
   "cell_type": "markdown",
   "metadata": {},
   "source": [
    "# Pyramid Number Pattern"
   ]
  },
  {
   "cell_type": "code",
   "execution_count": 9,
   "metadata": {},
   "outputs": [
    {
     "name": "stdout",
     "output_type": "stream",
     "text": [
      "4\n",
      "   1\n",
      "  212\n",
      " 32123\n",
      "4321234\n"
     ]
    }
   ],
   "source": [
    "numberofrows = int(input())\n",
    "rows = 1\n",
    "while(rows <= numberofrows):\n",
    "    spaces = 1\n",
    "    while(spaces <= numberofrows - rows):\n",
    "        print(\" \", end = \"\")\n",
    "        spaces += 1\n",
    "    columns = rows\n",
    "    while(columns >= 1):\n",
    "        print(columns, end = \"\")\n",
    "        columns -= 1\n",
    "    columns = 2\n",
    "    while(columns <= rows):\n",
    "        print(columns, end = \"\")\n",
    "        columns += 1\n",
    "    print()\n",
    "    rows += 1"
   ]
  },
  {
   "cell_type": "markdown",
   "metadata": {},
   "source": [
    "# Arrow pattern"
   ]
  },
  {
   "cell_type": "code",
   "execution_count": 10,
   "metadata": {},
   "outputs": [
    {
     "name": "stdout",
     "output_type": "stream",
     "text": [
      "7\n",
      "* \n",
      " * * \n",
      "  * * * \n",
      "   * * * * \n",
      "  * * * \n",
      " * * \n",
      "* \n"
     ]
    }
   ],
   "source": [
    "n=int(input())\n",
    "inc=(n+1)//2\n",
    "dec=n-inc\n",
    "i=1\n",
    "while i<=inc:\n",
    "    s=1\n",
    "    while s<=i-1:\n",
    "        print(' ',end=\"\")\n",
    "        s=s+1\n",
    "    j=1\n",
    "    while j<=i:\n",
    "        print(\"* \",end=\"\")\n",
    "        j=j+1\n",
    "    print()\n",
    "    i=i+1\n",
    "i=1\n",
    "while i<=dec:\n",
    "    s=1\n",
    "    while s<=dec-i:\n",
    "        print(\" \",end=\"\")\n",
    "        s=s+1\n",
    "    j=1\n",
    "    while j<=dec-i+1:\n",
    "        print(\"* \",end=\"\")\n",
    "        j=j+1\n",
    "    print()\n",
    "    i=i+1"
   ]
  }
 ],
 "metadata": {
  "kernelspec": {
   "display_name": "Python 3",
   "language": "python",
   "name": "python3"
  },
  "language_info": {
   "codemirror_mode": {
    "name": "ipython",
    "version": 3
   },
   "file_extension": ".py",
   "mimetype": "text/x-python",
   "name": "python",
   "nbconvert_exporter": "python",
   "pygments_lexer": "ipython3",
   "version": "3.8.5"
  }
 },
 "nbformat": 4,
 "nbformat_minor": 4
}
