{
 "cells": [
  {
   "cell_type": "markdown",
   "metadata": {},
   "source": [
    "# Fahrenheit to Celsius Function"
   ]
  },
  {
   "cell_type": "code",
   "execution_count": 1,
   "metadata": {},
   "outputs": [
    {
     "name": "stdout",
     "output_type": "stream",
     "text": [
      "0\n",
      "100\n",
      "20\n",
      "0\t-17\n",
      "20\t-6\n",
      "40\t4\n",
      "60\t15\n",
      "80\t26\n",
      "100\t37\n"
     ]
    }
   ],
   "source": [
    "S=int(input())\n",
    "E=int(input())\n",
    "W=int(input())\n",
    "i = S\n",
    "while i<=E:\n",
    "    cel=(5/9)*(i-32)\n",
    "    \n",
    "    print(str(i) + \"\\t\" + str(int(cel)))\n",
    "    i=i+W"
   ]
  },
  {
   "cell_type": "markdown",
   "metadata": {},
   "source": [
    "# Fibonacci Member"
   ]
  },
  {
   "cell_type": "code",
   "execution_count": 3,
   "metadata": {},
   "outputs": [
    {
     "name": "stdout",
     "output_type": "stream",
     "text": [
      "14\n",
      "false\n"
     ]
    }
   ],
   "source": [
    "def checkmember(n):\n",
    "    if (n==0 or n ==1 or n ==2):\n",
    "        return True\n",
    "    a = 0\n",
    "    b = 1\n",
    "    while (b<n):\n",
    "        c =a+b\n",
    "        a=b\n",
    "        b=c\n",
    "    if (b==n):\n",
    "        return True\n",
    "    return False\n",
    "\n",
    "n = int(input())\n",
    "if (checkmember(n)):\n",
    "    print('true')\n",
    "else:\n",
    "    print('false')    "
   ]
  },
  {
   "cell_type": "markdown",
   "metadata": {},
   "source": [
    "# Palindrome number"
   ]
  },
  {
   "cell_type": "code",
   "execution_count": 4,
   "metadata": {},
   "outputs": [
    {
     "name": "stdout",
     "output_type": "stream",
     "text": [
      "121\n",
      "true\n"
     ]
    }
   ],
   "source": [
    "N = int(input())\n",
    "i = N\n",
    "R = 0\n",
    "while N>0:\n",
    "    R =R*10+ N%10\n",
    "    N =N//10\n",
    "if R ==i:\n",
    "    print(\"true\")\n",
    "else:\n",
    "    print(\"false\")"
   ]
  },
  {
   "cell_type": "markdown",
   "metadata": {},
   "source": [
    "# Check Armstrong"
   ]
  },
  {
   "cell_type": "code",
   "execution_count": 6,
   "metadata": {},
   "outputs": [
    {
     "name": "stdout",
     "output_type": "stream",
     "text": [
      "103\n",
      "false\n"
     ]
    }
   ],
   "source": [
    "def order(m):\n",
    "    count = 0\n",
    "    while m != 0:\n",
    "        m = m // 10\n",
    "        count = count + 1\n",
    "    return count\n",
    "def num(n):\n",
    "    sum = 0\n",
    "    c = order(n)\n",
    "    while n > 0:\n",
    "        x = n % 10\n",
    "        sum = sum + (x**c)\n",
    "        n = n // 10\n",
    "    return sum\n",
    "y = int(input())\n",
    "d = num(y)\n",
    "if y == d:\n",
    "    print('true')\n",
    "else:\n",
    "    print('false')"
   ]
  }
 ],
 "metadata": {
  "kernelspec": {
   "display_name": "Python 3",
   "language": "python",
   "name": "python3"
  },
  "language_info": {
   "codemirror_mode": {
    "name": "ipython",
    "version": 3
   },
   "file_extension": ".py",
   "mimetype": "text/x-python",
   "name": "python",
   "nbconvert_exporter": "python",
   "pygments_lexer": "ipython3",
   "version": "3.8.5"
  }
 },
 "nbformat": 4,
 "nbformat_minor": 4
}
