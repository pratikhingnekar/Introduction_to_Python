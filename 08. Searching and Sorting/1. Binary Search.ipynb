{
 "cells": [
  {
   "cell_type": "code",
   "execution_count": 2,
   "metadata": {
    "scrolled": true
   },
   "outputs": [
    {
     "name": "stdout",
     "output_type": "stream",
     "text": [
      "8\n"
     ]
    }
   ],
   "source": [
    "def binarySearch(arr,element):\n",
    "    start = 0\n",
    "    end = len(arr)-1\n",
    "    while (start<=end):\n",
    "        mid = (start+end)//2\n",
    "        if (arr[mid]==element):\n",
    "            return mid\n",
    "        elif(arr[mid]<element):\n",
    "            start = mid+1\n",
    "        else:\n",
    "            end = mid-1\n",
    "    return -1\n",
    "\n",
    "arr = [1,3,8,9,11,13,70,89,98]\n",
    "index = binarySearch(arr,98)\n",
    "print(index)"
   ]
  },
  {
   "cell_type": "code",
   "execution_count": 3,
   "metadata": {},
   "outputs": [
    {
     "name": "stdout",
     "output_type": "stream",
     "text": [
      "-1\n"
     ]
    }
   ],
   "source": [
    "def binarySearch(arr,element):\n",
    "    start = 0\n",
    "    end = len(arr)-1\n",
    "    while (start<=end):\n",
    "        mid = (start+end)//2\n",
    "        if (arr[mid]==element):\n",
    "            return mid\n",
    "        elif(arr[mid]<element):\n",
    "            start = mid+1\n",
    "        else:\n",
    "            end = mid-1\n",
    "    return -1\n",
    "\n",
    "arr = [1,3,8,9,11,13,70,89,98]\n",
    "index = binarySearch(arr,90)\n",
    "print(index)"
   ]
  }
 ],
 "metadata": {
  "kernelspec": {
   "display_name": "Python 3",
   "language": "python",
   "name": "python3"
  },
  "language_info": {
   "codemirror_mode": {
    "name": "ipython",
    "version": 3
   },
   "file_extension": ".py",
   "mimetype": "text/x-python",
   "name": "python",
   "nbconvert_exporter": "python",
   "pygments_lexer": "ipython3",
   "version": "3.8.5"
  }
 },
 "nbformat": 4,
 "nbformat_minor": 4
}
