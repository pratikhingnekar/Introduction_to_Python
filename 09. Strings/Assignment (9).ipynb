{
 "cells": [
  {
   "cell_type": "markdown",
   "metadata": {},
   "source": [
    "# Check Palindrome"
   ]
  },
  {
   "cell_type": "code",
   "execution_count": 3,
   "metadata": {
    "scrolled": true
   },
   "outputs": [
    {
     "name": "stdout",
     "output_type": "stream",
     "text": [
      "true\n"
     ]
    }
   ],
   "source": [
    "from sys import stdin\n",
    "\n",
    "\n",
    "def isPalindrome(string) :\n",
    "    left =0\n",
    "    right= len(string)-1\n",
    "    \n",
    "    while left<right:\n",
    "        if string[left]!=string[right]:\n",
    "            return False\n",
    "        \n",
    "        left += 1\n",
    "        right -=1\n",
    "        \n",
    "    return True\n",
    "\n",
    "\n",
    "#main\n",
    "string = stdin.readline().strip();\n",
    "ans = isPalindrome(string)\n",
    "\n",
    "if ans :\n",
    "    print('true')\n",
    "else :\n",
    "    print('false')"
   ]
  },
  {
   "cell_type": "markdown",
   "metadata": {},
   "source": [
    "# Check Permutation"
   ]
  },
  {
   "cell_type": "code",
   "execution_count": null,
   "metadata": {},
   "outputs": [],
   "source": [
    "s=input()\n",
    "d=input()\n",
    "if sorted(d)==sorted(s):\n",
    "    print(\"true\")\n",
    "else:\n",
    "    print(\"false\")"
   ]
  },
  {
   "cell_type": "markdown",
   "metadata": {},
   "source": [
    "# Remove Consecutive Duplicates"
   ]
  },
  {
   "cell_type": "code",
   "execution_count": null,
   "metadata": {},
   "outputs": [],
   "source": [
    "s=input()\n",
    "s=s+\" \"\n",
    "for i in range(len(s)-1):\n",
    "    if s[i]!=s[i+1]:\n",
    "        print(s[i],end=\"\")"
   ]
  },
  {
   "cell_type": "markdown",
   "metadata": {},
   "source": [
    "# Reverse Each Word"
   ]
  },
  {
   "cell_type": "code",
   "execution_count": null,
   "metadata": {},
   "outputs": [],
   "source": [
    "s=input()\n",
    "new=s.split()\n",
    "for i in range(len(new)):\n",
    "    sad=new[i][::-1]\n",
    "    print(sad,end=\" \")"
   ]
  },
  {
   "cell_type": "markdown",
   "metadata": {},
   "source": [
    "# Remove character"
   ]
  },
  {
   "cell_type": "code",
   "execution_count": null,
   "metadata": {},
   "outputs": [],
   "source": [
    "s=input()\n",
    "ch=input()\n",
    "print(s.replace(ch, ''))"
   ]
  },
  {
   "cell_type": "markdown",
   "metadata": {},
   "source": [
    "# Highest Occuring Character"
   ]
  },
  {
   "cell_type": "code",
   "execution_count": 5,
   "metadata": {},
   "outputs": [
    {
     "name": "stdout",
     "output_type": "stream",
     "text": [
      "xy\n",
      "x\n"
     ]
    }
   ],
   "source": [
    "def get_max_occuring_char(str1):\n",
    "    ASCII_SIZE = 256\n",
    "    ctr = [0] * ASCII_SIZE\n",
    "    max = -1\n",
    "    ch = ''\n",
    "    for i in str1:\n",
    "        ctr[ord(i)]+=1;\n",
    "    \n",
    "    for i in str1:\n",
    "        if max < ctr[ord(i)]:\n",
    "            max = ctr[ord(i)]\n",
    "            ch = i\n",
    "        return ch\n",
    "\n",
    "str1=input()\n",
    "print(get_max_occuring_char(str1))"
   ]
  },
  {
   "cell_type": "markdown",
   "metadata": {},
   "source": [
    "# Compress the String"
   ]
  },
  {
   "cell_type": "code",
   "execution_count": null,
   "metadata": {},
   "outputs": [],
   "source": [
    "def ab(a):\n",
    "    i=0\n",
    "    x=''\n",
    "    while(i<len(a)):\n",
    "        j=i+1\n",
    "        c=1\n",
    "        while j<len(a) and (a[i]==a[j]):\n",
    "            j+=1\n",
    "            c+=1\n",
    "        if c==1:\n",
    "            x+=a[i]\n",
    "        else:\n",
    "            x+=a[i]+str(c)\n",
    "        i=j\n",
    "    return x\n",
    "a=input()\n",
    "print(ab(a))"
   ]
  }
 ],
 "metadata": {
  "kernelspec": {
   "display_name": "Python 3",
   "language": "python",
   "name": "python3"
  },
  "language_info": {
   "codemirror_mode": {
    "name": "ipython",
    "version": 3
   },
   "file_extension": ".py",
   "mimetype": "text/x-python",
   "name": "python",
   "nbconvert_exporter": "python",
   "pygments_lexer": "ipython3",
   "version": "3.8.5"
  }
 },
 "nbformat": 4,
 "nbformat_minor": 4
}
