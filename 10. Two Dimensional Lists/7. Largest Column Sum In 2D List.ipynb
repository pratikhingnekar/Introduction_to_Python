{
 "cells": [
  {
   "cell_type": "code",
   "execution_count": 5,
   "metadata": {},
   "outputs": [
    {
     "name": "stdout",
     "output_type": "stream",
     "text": [
      "21 3\n"
     ]
    }
   ],
   "source": [
    "def lar_Col_Sum(li):\n",
    "    n = len(li)\n",
    "    m = len(li[0])\n",
    "    \n",
    "    max_sum = -1\n",
    "    max_col_index  = -1\n",
    "    for j in range (m):\n",
    "        sum = 0\n",
    "        for i in range(n):\n",
    "            sum += li[i][j]\n",
    "            if sum>max_sum:\n",
    "                max_col_index= j\n",
    "                max_sum = sum\n",
    "    return max_sum,max_col_index\n",
    "\n",
    "li = [[1,2,3,4],[8,7,6,5],[9,10,11,12]]\n",
    "lar_sum,lar_col_Index = lar_Col_Sum(li)\n",
    "print(lar_sum,lar_col_Index)"
   ]
  },
  {
   "cell_type": "code",
   "execution_count": 4,
   "metadata": {},
   "outputs": [
    {
     "name": "stdout",
     "output_type": "stream",
     "text": [
      "21 3\n"
     ]
    }
   ],
   "source": [
    "def lar_Col_Sum(li):\n",
    "    n = len(li)\n",
    "    m = len(li[0])\n",
    "    \n",
    "    max_sum = -1\n",
    "    max_col_index  = -1\n",
    "    for j in range (m):\n",
    "        sum = 0\n",
    "        for ele in li:\n",
    "            sum += ele[j]\n",
    "            if sum>max_sum:\n",
    "                max_col_index= j\n",
    "                max_sum = sum\n",
    "    return max_sum,max_col_index\n",
    "\n",
    "li = [[1,2,3,4],[8,7,6,5],[9,10,11,12]]\n",
    "lar_sum,lar_col_Index = lar_Col_Sum(li)\n",
    "print(lar_sum,lar_col_Index)"
   ]
  }
 ],
 "metadata": {
  "kernelspec": {
   "display_name": "Python 3",
   "language": "python",
   "name": "python3"
  },
  "language_info": {
   "codemirror_mode": {
    "name": "ipython",
    "version": 3
   },
   "file_extension": ".py",
   "mimetype": "text/x-python",
   "name": "python",
   "nbconvert_exporter": "python",
   "pygments_lexer": "ipython3",
   "version": "3.8.5"
  }
 },
 "nbformat": 4,
 "nbformat_minor": 4
}
