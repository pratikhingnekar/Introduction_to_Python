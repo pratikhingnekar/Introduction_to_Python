{
 "cells": [
  {
   "cell_type": "markdown",
   "metadata": {},
   "source": [
    "# Row Wise Sum\n"
   ]
  },
  {
   "cell_type": "code",
   "execution_count": null,
   "metadata": {},
   "outputs": [],
   "source": [
    "p=int(input())\n",
    "for i in range(p):\n",
    "    str=input().split()\n",
    "    n,m=int(str[0]),int(str[1])\n",
    "    arr=[]\n",
    "    for i in range(n):\n",
    "        b=input().split()\n",
    "        arrr=[int(x) for x in b]\n",
    "        print(sum(arrr),end=\" \")\n",
    "    print()"
   ]
  },
  {
   "cell_type": "markdown",
   "metadata": {},
   "source": [
    "# Largest Row or Column"
   ]
  },
  {
   "cell_type": "code",
   "execution_count": null,
   "metadata": {},
   "outputs": [],
   "source": [
    "from sys import stdin\n",
    "MIN_VALUE=-2147483648\n",
    "def findLargest(arr, nRows, mCols):\n",
    "    #Your code goes here\n",
    "    isRow =True\n",
    "    largestSum=MIN_VALUE\n",
    "    num=0\n",
    "    for i in range(nRows):\n",
    "        rowSum=0\n",
    "        for j in range(mCols):\n",
    "            rowSum+=arr[i][j]\n",
    "        if rowSum>largestSum:\n",
    "            largestSum=rowSum\n",
    "            num=i\n",
    "    for j in range(mCols):\n",
    "        colSum=0\n",
    "        for i in range(nRows):\n",
    "            colSum+=arr[i][j]\n",
    "        if colSum>largestSum:\n",
    "            largestSum=colSum\n",
    "            num=j\n",
    "            isRow=False\n",
    "    if isRow:\n",
    "        print(\"row \"+str(num)+\" \"+str(largestSum))\n",
    "    else:\n",
    "        print(\"column \"+str(num)+\" \"+str(largestSum))\n",
    "#Taking Input Using Fast I/O\n",
    "def take2DInput() :\n",
    "    li = stdin.readline().rstrip().split(\" \")\n",
    "    nRows = int(li[0])\n",
    "    mCols = int(li[1])\n",
    "    \n",
    "    if nRows == 0 :\n",
    "        return list(), 0, 0\n",
    "    \n",
    "    mat = [list(map(int, input().strip().split(\" \"))) for row in range(nRows)]\n",
    "    return mat, nRows, mCols\n",
    "\n",
    "\n",
    "#main\n",
    "t = int(stdin.readline().rstrip())\n",
    "\n",
    "while t > 0 :\n",
    "\n",
    "    mat, nRows, mCols = take2DInput()\n",
    "    findLargest(mat, nRows, mCols)\n",
    "\n",
    "    t -= 1"
   ]
  },
  {
   "cell_type": "markdown",
   "metadata": {},
   "source": [
    "# Wave Print\n"
   ]
  },
  {
   "cell_type": "code",
   "execution_count": null,
   "metadata": {},
   "outputs": [],
   "source": [
    "from sys import stdin\n",
    "\n",
    "def wavePrint(mat, nrows, mcols):\n",
    "    if nrows==0:\n",
    "        return\n",
    "    \n",
    "    for j in range(mcols):\n",
    "        if j%2==0:\n",
    "            for i in range(nrows):\n",
    "                print(mat[i][j],end=\" \")\n",
    "                \n",
    "        else:\n",
    "            for i in range((nrows-1),-1,-1):\n",
    "                print(mat[i][j],end=\" \")\n",
    "\n",
    "\n",
    "def take2DInput() :\n",
    "    li = stdin.readline().rstrip().split(\" \")\n",
    "    nRows = int(li[0])\n",
    "    mCols = int(li[1])\n",
    "    \n",
    "    if nRows == 0 :\n",
    "        return list(), 0, 0\n",
    "    \n",
    "    mat = [list(map(int, input().strip().split(\" \"))) for row in range(nRows)]\n",
    "    return mat, nRows, mCols\n",
    "\n",
    "\n",
    "t = int(stdin.readline().rstrip())\n",
    "\n",
    "while t > 0 :\n",
    "\n",
    "    mat, nRows, mCols = take2DInput()\n",
    "    wavePrint(mat, nRows, mCols)\n",
    "    print()\n",
    "\n",
    "    t -= 1"
   ]
  },
  {
   "cell_type": "markdown",
   "metadata": {},
   "source": [
    "# Spiral Print"
   ]
  },
  {
   "cell_type": "code",
   "execution_count": null,
   "metadata": {},
   "outputs": [],
   "source": [
    "from sys import stdin\n",
    "\n",
    "def spiralPrint(twoDArr, nRows, mCols):\n",
    "    top=0\n",
    "    bottom=row-1\n",
    "    left=0\n",
    "    right=col-1\n",
    "    direction=0\n",
    "\n",
    "    while (top<=bottom) and (left<=right):\n",
    "\n",
    "        if (direction==0):\n",
    "            for i in range(left,right+1):\n",
    "                print(twoDArr[top][i],end=\" \")\n",
    "            top+=1\n",
    "            direction=1\n",
    "\n",
    "        elif (direction==1):\n",
    "            for i in range(top,bottom+1):\n",
    "                print(twoDArr[i][right],end=\" \")\n",
    "            right-=1\n",
    "            direction=2\n",
    "\n",
    "        elif (direction==2):\n",
    "            for i in range(right,left-1,-1):\n",
    "                print(twoDArr[bottom][i],end=\" \")\n",
    "            bottom-=1\n",
    "            direction=3\n",
    "\n",
    "        elif (direction==3):\n",
    "            for i in range(bottom,top-1,-1):\n",
    "                print(twoDArr[i][left],end=\" \")\n",
    "            left+=1\n",
    "            direction=0\n",
    "\n",
    "            \n",
    "            \n",
    "            \n",
    "            \n",
    "for i in range(int(input())):\n",
    "    l=[int(i) for i in input().strip().split(\" \")]\n",
    "    row,col = l[0],l[1]\n",
    "    arr=[[int(i) for i in input().split()] for j in range(row)]\n",
    "    spiralPrint(arr,row,col)\n",
    "    print()"
   ]
  }
 ],
 "metadata": {
  "kernelspec": {
   "display_name": "Python 3",
   "language": "python",
   "name": "python3"
  },
  "language_info": {
   "codemirror_mode": {
    "name": "ipython",
    "version": 3
   },
   "file_extension": ".py",
   "mimetype": "text/x-python",
   "name": "python",
   "nbconvert_exporter": "python",
   "pygments_lexer": "ipython3",
   "version": "3.8.5"
  }
 },
 "nbformat": 4,
 "nbformat_minor": 4
}
